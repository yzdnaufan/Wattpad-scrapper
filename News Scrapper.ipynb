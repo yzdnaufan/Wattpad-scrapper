{
 "cells": [
  {
   "cell_type": "markdown",
   "metadata": {},
   "source": [
    "Testing"
   ]
  },
  {
   "cell_type": "code",
   "execution_count": 2,
   "metadata": {},
   "outputs": [],
   "source": [
    "import requests\n",
    "from bs4 import BeautifulSoup\n",
    "from time import sleep"
   ]
  },
  {
   "cell_type": "code",
   "execution_count": 4,
   "metadata": {},
   "outputs": [],
   "source": [
    "obj_ =[]\n",
    "\n",
    "\n",
    "class url:\n",
    "    def __init__(self, judul, id, kategori, url_ ):\n",
    "        self.judul = judul\n",
    "        self.id = id\n",
    "        self.kategori = kategori\n",
    "        self.url_ = url_\n",
    "        \n",
    "def ListingsData(cats):\n",
    "    \n",
    "    soup = BeautifulSoup(cats, 'html.parser')\n",
    "    headlines = soup.find(class_='browse-content-container').find_all('a', attrs={\"class\": \"title meta on-story-preview\"})\n",
    "\n",
    "\n",
    "    \n",
    "    \n",
    "    return print(headlines[80]) \n",
    "    "
   ]
  },
  {
   "cell_type": "code",
   "execution_count": 8,
   "metadata": {},
   "outputs": [],
   "source": [
    "with open('html/horror.html', 'r', encoding='utf-8') as o :\n",
    "    ListingsData(o)"
   ]
  },
  {
   "cell_type": "code",
   "execution_count": null,
   "metadata": {},
   "outputs": [],
   "source": [
    "for i in cat:\n",
    "    ass = \"xxxx\" + str(i)\n",
    "    print(ass)"
   ]
  },
  {
   "cell_type": "code",
   "execution_count": null,
   "metadata": {},
   "outputs": [],
   "source": [
    "cat = ['horror', 'fantasy', 'romance', 'comedy', 'sciencefiction']\n",
    "li =[]\n",
    "for i in range(len(cat)):\n",
    "    li.append((cat[i], 80))\n",
    "\n",
    "print(li)"
   ]
  },
  {
   "cell_type": "code",
   "execution_count": null,
   "metadata": {},
   "outputs": [],
   "source": [
    "for x in headlines:\n",
    "    web_ = x.find('a').get('href')\n",
    "    url1 = str(web_) +'?single=1'\n",
    "        "
   ]
  },
  {
   "cell_type": "markdown",
   "metadata": {},
   "source": [
    "-----------"
   ]
  },
  {
   "cell_type": "code",
   "execution_count": null,
   "metadata": {},
   "outputs": [],
   "source": [
    "import pandas as pd\n",
    "import requests\n",
    "from bs4 import BeautifulSoup"
   ]
  },
  {
   "cell_type": "code",
   "execution_count": null,
   "metadata": {},
   "outputs": [],
   "source": [
    "cat = ['horror', 'fantasy', 'romance', 'comedy', 'sciencefiction']\n",
    "title_count = 80"
   ]
  },
  {
   "cell_type": "markdown",
   "metadata": {},
   "source": [
    "# 1. Get HTML files based on category"
   ]
  },
  {
   "cell_type": "code",
   "execution_count": null,
   "metadata": {},
   "outputs": [],
   "source": [
    "from selenium_get_web import get_html\n",
    "\n",
    "get_html(cat)"
   ]
  },
  {
   "cell_type": "code",
   "execution_count": null,
   "metadata": {},
   "outputs": [],
   "source": [
    "from scrape import Scrape\n",
    "\n",
    "from tqdm import tqdm\n",
    "\n",
    "from multiprocess import Pool\n",
    "\n",
    "frames_list = list(range(500))\n",
    "\n",
    "max_pool = 4\n",
    "\n",
    "with Pool(max_pool) as p:\n",
    "    pool_outputs= list(\n",
    "        tqdm(\n",
    "            p.imap(Scrape,\n",
    "                   frames_list),\n",
    "            total=len(frames_list)\n",
    "        )\n",
    "    )    \n"
   ]
  },
  {
   "cell_type": "code",
   "execution_count": null,
   "metadata": {},
   "outputs": [],
   "source": [
    "import numpy as np\n",
    "flat = np.array(pool_outputs[1:])\n",
    "title = np.concatenate(flat[:,0])\n",
    "len(title)"
   ]
  },
  {
   "cell_type": "code",
   "execution_count": null,
   "metadata": {},
   "outputs": [],
   "source": [
    "text = np.concatenate(flat[:,1])\n",
    "len(text)"
   ]
  },
  {
   "cell_type": "code",
   "execution_count": null,
   "metadata": {},
   "outputs": [],
   "source": [
    "link = np.concatenate(flat[:,2])\n",
    "len(link)"
   ]
  },
  {
   "cell_type": "code",
   "execution_count": null,
   "metadata": {},
   "outputs": [],
   "source": [
    "df = pd.DataFrame(list(zip(title, text, link)), columns =[\"Judul Berita\", \"Isi berita\", \"Link berita\"])\n",
    "df"
   ]
  },
  {
   "cell_type": "code",
   "execution_count": null,
   "metadata": {},
   "outputs": [],
   "source": [
    "df.to_csv('hasil.csv')"
   ]
  }
 ],
 "metadata": {
  "interpreter": {
   "hash": "82ed002fa2d4956f5c6aec99bcefe0f73a9f79882f3c9e2319b14958a5896ac5"
  },
  "kernelspec": {
   "display_name": "Python 3.9.6 64-bit",
   "language": "python",
   "name": "python3"
  },
  "language_info": {
   "codemirror_mode": {
    "name": "ipython",
    "version": 3
   },
   "file_extension": ".py",
   "mimetype": "text/x-python",
   "name": "python",
   "nbconvert_exporter": "python",
   "pygments_lexer": "ipython3",
   "version": "3.9.6"
  },
  "orig_nbformat": 4
 },
 "nbformat": 4,
 "nbformat_minor": 2
}
