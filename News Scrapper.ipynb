{
 "cells": [
  {
   "cell_type": "code",
   "execution_count": 1,
   "metadata": {},
   "outputs": [
    {
     "name": "stdout",
     "output_type": "stream",
     "text": [
      "{'phonenumber': '', 'username': 'dscnl001', 'password': '1234qwer'}\n"
     ]
    }
   ],
   "source": [
    "import pandas as pd\n",
    "import requests\n",
    "from bs4 import BeautifulSoup\n",
    "from scrape import ListingsData\n",
    "from scrape import Scrape\n",
    "from scrape import seed\n",
    "from selenium_get_web import get_html\n",
    "import numpy as np\n",
    "from tqdm import tqdm\n",
    "from multiprocess import Pool"
   ]
  },
  {
   "cell_type": "code",
   "execution_count": 9,
   "metadata": {},
   "outputs": [],
   "source": [
    "cat = ['horror', 'fantasy', 'romance', 'comedy', 'sciencefiction']\n",
    "title_count = 50\n",
    "Seed = 16\n",
    "\n",
    "seed(Seed)\n",
    "\n",
    "max_pool = 16"
   ]
  },
  {
   "cell_type": "markdown",
   "metadata": {},
   "source": [
    "# 1. Get HTML files based on category"
   ]
  },
  {
   "cell_type": "code",
   "execution_count": null,
   "metadata": {},
   "outputs": [],
   "source": [
    "get_html(cat)"
   ]
  },
  {
   "cell_type": "code",
   "execution_count": 10,
   "metadata": {},
   "outputs": [
    {
     "name": "stderr",
     "output_type": "stream",
     "text": [
      "100%|██████████| 50/50 [00:32<00:00,  1.56it/s]\n"
     ]
    }
   ],
   "source": [
    "raw_list =[]\n",
    "\n",
    "#for iter in cat:\n",
    "    #if any(raw_list) :\n",
    "    #    raw_list.append(pool_outputs)\n",
    "    \n",
    "frames_list = ListingsData(cat[4], title_count)\n",
    "\n",
    "with Pool(max_pool) as p:\n",
    "    pool_outputs= list(\n",
    "        tqdm(\n",
    "            p.imap(Scrape,\n",
    "                frames_list), total=len(frames_list)))\n",
    "        \n",
    "        \n",
    "\n"
   ]
  },
  {
   "cell_type": "code",
   "execution_count": 11,
   "metadata": {},
   "outputs": [
    {
     "name": "stdout",
     "output_type": "stream",
     "text": [
      "103\n",
      "103\n",
      "103\n",
      "103\n"
     ]
    },
    {
     "name": "stderr",
     "output_type": "stream",
     "text": [
      "C:\\Users\\user\\AppData\\Local\\Temp/ipykernel_7888/3821732996.py:1: VisibleDeprecationWarning: Creating an ndarray from ragged nested sequences (which is a list-or-tuple of lists-or-tuples-or ndarrays with different lengths or shapes) is deprecated. If you meant to do this, you must specify 'dtype=object' when creating the ndarray.\n",
      "  flat = np.array(pool_outputs[1:])\n"
     ]
    }
   ],
   "source": [
    "flat = np.array(pool_outputs[1:])\n",
    "\n",
    "title = np.concatenate(flat[:,0])\n",
    "print(len(title))\n",
    "IDtulisan = np.concatenate(flat[:,1])\n",
    "print(len(IDtulisan))\n",
    "txt = np.concatenate(flat[:,2])\n",
    "print(len(txt))\n",
    "cat_arr = np.concatenate(flat[:,3])\n",
    "print(len(cat_arr))"
   ]
  },
  {
   "cell_type": "code",
   "execution_count": 12,
   "metadata": {},
   "outputs": [
    {
     "data": {
      "text/html": [
       "<div>\n",
       "<style scoped>\n",
       "    .dataframe tbody tr th:only-of-type {\n",
       "        vertical-align: middle;\n",
       "    }\n",
       "\n",
       "    .dataframe tbody tr th {\n",
       "        vertical-align: top;\n",
       "    }\n",
       "\n",
       "    .dataframe thead th {\n",
       "        text-align: right;\n",
       "    }\n",
       "</style>\n",
       "<table border=\"1\" class=\"dataframe\">\n",
       "  <thead>\n",
       "    <tr style=\"text-align: right;\">\n",
       "      <th></th>\n",
       "      <th>title</th>\n",
       "      <th>id</th>\n",
       "      <th>p</th>\n",
       "      <th>category</th>\n",
       "    </tr>\n",
       "  </thead>\n",
       "  <tbody>\n",
       "    <tr>\n",
       "      <th>0</th>\n",
       "      <td>THE TIME MACHINE (Completed)</td>\n",
       "      <td>117205261</td>\n",
       "      <td>He had known this area well at one point. Now ...</td>\n",
       "      <td>sciencefiction</td>\n",
       "    </tr>\n",
       "    <tr>\n",
       "      <th>1</th>\n",
       "      <td>Dawnhammer Origins: Dawn of the Gu...</td>\n",
       "      <td>181326011</td>\n",
       "      <td>West. The word was everywhere. Sebastian read ...</td>\n",
       "      <td>sciencefiction</td>\n",
       "    </tr>\n",
       "    <tr>\n",
       "      <th>2</th>\n",
       "      <td>Twenty Thousand Leagues Under the...</td>\n",
       "      <td>109975845</td>\n",
       "      <td>The dispossessed acted differently. They lacke...</td>\n",
       "      <td>sciencefiction</td>\n",
       "    </tr>\n",
       "    <tr>\n",
       "      <th>3</th>\n",
       "      <td>THE WAR OF THE WORLDS (Completed)</td>\n",
       "      <td>117436349</td>\n",
       "      <td>Sebastian declined.</td>\n",
       "      <td>sciencefiction</td>\n",
       "    </tr>\n",
       "    <tr>\n",
       "      <th>4</th>\n",
       "      <td>Ascending (The Vardeshi Saga Book...</td>\n",
       "      <td>179390248</td>\n",
       "      <td>\"So you're leaving too? I can't say I blame you.\"</td>\n",
       "      <td>sciencefiction</td>\n",
       "    </tr>\n",
       "    <tr>\n",
       "      <th>...</th>\n",
       "      <td>...</td>\n",
       "      <td>...</td>\n",
       "      <td>...</td>\n",
       "      <td>...</td>\n",
       "    </tr>\n",
       "    <tr>\n",
       "      <th>98</th>\n",
       "      <td>The Wavering Hawk [ENGLISH]</td>\n",
       "      <td>174709054</td>\n",
       "      <td>Sebastian felt himself becoming unhinged. \"Don...</td>\n",
       "      <td>sciencefiction</td>\n",
       "    </tr>\n",
       "    <tr>\n",
       "      <th>99</th>\n",
       "      <td>The Lost City Of Atlantis</td>\n",
       "      <td>8622835</td>\n",
       "      <td>Just as he came to reacquaint himself with the...</td>\n",
       "      <td>sciencefiction</td>\n",
       "    </tr>\n",
       "    <tr>\n",
       "      <th>100</th>\n",
       "      <td>Cognitive Deviance</td>\n",
       "      <td>120255658</td>\n",
       "      <td>The policeman typed on the keys of his compute...</td>\n",
       "      <td>sciencefiction</td>\n",
       "    </tr>\n",
       "    <tr>\n",
       "      <th>101</th>\n",
       "      <td>Fall of the Terran Empire - Traci...</td>\n",
       "      <td>89006</td>\n",
       "      <td>\"Lipstick? Did you ...?\"</td>\n",
       "      <td>sciencefiction</td>\n",
       "    </tr>\n",
       "    <tr>\n",
       "      <th>102</th>\n",
       "      <td>Dark Legacy: The End of the Kai</td>\n",
       "      <td>5792868</td>\n",
       "      <td>\"Please, Mr. Veillard, be calm. I sent the let...</td>\n",
       "      <td>sciencefiction</td>\n",
       "    </tr>\n",
       "  </tbody>\n",
       "</table>\n",
       "<p>103 rows × 4 columns</p>\n",
       "</div>"
      ],
      "text/plain": [
       "                                     title         id  \\\n",
       "0             THE TIME MACHINE (Completed)  117205261   \n",
       "1    Dawnhammer Origins: Dawn of the Gu...  181326011   \n",
       "2     Twenty Thousand Leagues Under the...  109975845   \n",
       "3        THE WAR OF THE WORLDS (Completed)  117436349   \n",
       "4     Ascending (The Vardeshi Saga Book...  179390248   \n",
       "..                                     ...        ...   \n",
       "98             The Wavering Hawk [ENGLISH]  174709054   \n",
       "99               The Lost City Of Atlantis    8622835   \n",
       "100                     Cognitive Deviance  120255658   \n",
       "101   Fall of the Terran Empire - Traci...      89006   \n",
       "102        Dark Legacy: The End of the Kai    5792868   \n",
       "\n",
       "                                                     p        category  \n",
       "0    He had known this area well at one point. Now ...  sciencefiction  \n",
       "1    West. The word was everywhere. Sebastian read ...  sciencefiction  \n",
       "2    The dispossessed acted differently. They lacke...  sciencefiction  \n",
       "3                                  Sebastian declined.  sciencefiction  \n",
       "4    \"So you're leaving too? I can't say I blame you.\"  sciencefiction  \n",
       "..                                                 ...             ...  \n",
       "98   Sebastian felt himself becoming unhinged. \"Don...  sciencefiction  \n",
       "99   Just as he came to reacquaint himself with the...  sciencefiction  \n",
       "100  The policeman typed on the keys of his compute...  sciencefiction  \n",
       "101                           \"Lipstick? Did you ...?\"  sciencefiction  \n",
       "102  \"Please, Mr. Veillard, be calm. I sent the let...  sciencefiction  \n",
       "\n",
       "[103 rows x 4 columns]"
      ]
     },
     "execution_count": 12,
     "metadata": {},
     "output_type": "execute_result"
    }
   ],
   "source": [
    "df = pd.DataFrame(list(zip(title, IDtulisan, txt, cat_arr)), columns =[\"title\", \"id\", \"p\", \"category\"])\n",
    "df"
   ]
  },
  {
   "cell_type": "code",
   "execution_count": 13,
   "metadata": {},
   "outputs": [],
   "source": [
    "df = df.replace('', np.nan)"
   ]
  },
  {
   "cell_type": "code",
   "execution_count": 14,
   "metadata": {},
   "outputs": [],
   "source": [
    "df.to_csv('hasil_sciencefiction.csv')"
   ]
  }
 ],
 "metadata": {
  "interpreter": {
   "hash": "82ed002fa2d4956f5c6aec99bcefe0f73a9f79882f3c9e2319b14958a5896ac5"
  },
  "kernelspec": {
   "display_name": "Python 3.9.6 64-bit",
   "language": "python",
   "name": "python3"
  },
  "language_info": {
   "codemirror_mode": {
    "name": "ipython",
    "version": 3
   },
   "file_extension": ".py",
   "mimetype": "text/x-python",
   "name": "python",
   "nbconvert_exporter": "python",
   "pygments_lexer": "ipython3",
   "version": "3.9.6"
  },
  "orig_nbformat": 4
 },
 "nbformat": 4,
 "nbformat_minor": 2
}
